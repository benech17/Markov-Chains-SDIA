{
 "cells": [
  {
   "cell_type": "markdown",
   "metadata": {},
   "source": [
    "# Probability 2 (Master Data science, University of Lille) / CMF (Centrale Lille, G3 SDIA)\n",
    "\n",
    "---\n",
    "\n",
    "## Lab 2 - Queues, Metropolis-Hastings and simulated annealing\n",
    "\n",
    "---\n",
    "\n",
    "## Guidelines (read carefully before starting)\n",
    "\n",
    "**Objectives**: numerically simulate queues, implement an example of a Metropolis-Hasting algorithm and simulated annealing.\n",
    "\n",
    "**Setup**: after retrieving the resources for the lab on moodle:\n",
    "- place the .zip archive in a local folder (Computer -> Documents/Python/);\n",
    "- unzip the archive .zip;\n",
    "- rename the folder with the convention lab2_Name1_Name2\n",
    "- duplicate the notebook file and rename it lab2_Name1_Name2.ipynb;\n",
    "- [**optional, possibly needed if working from Centrale's machines**]\n",
    "    - create a `lab2` conda environment from the provided `requirement.txt` file\n",
    "    ```bash\n",
    "    conda create --name=lab2 --file=requirement.txt\n",
    "    conda activate lab2\n",
    "    # do not forget to deactivate the environment if needed\n",
    "    # you can remove the environment once you are done\n",
    "    conda env remove --name=lab2\n",
    "    ```\n",
    "    - launch jupyter notebook (the python environment will be the one from the conda environment `lab2`)\n",
    "- at the end of the session, do not forget to transfer your work to your own network space if you are working on a machine from the school (do not leave your work on the C: drive).\n",
    "\n",
    "**Assessment** &#8594; grade /20 (possibly converted later on to a grade ranging from F to A (A+))\n",
    "\n",
    "This lab session will be evaluated, based on your answer to the exercises reported in a Jupyter notebook (e.g., this one) and any additional `.py` file produced. In particular:\n",
    "\n",
    "- make sure the notebook you produce is properly annotated: each exercise should be introduced by a short sentence summarizing its context. Concisely answer each question from the guideline. \n",
    "- **relate the numerical results to the theory covered during the lecture** whenever appropriate;\n",
    "- **codes without any explanations (in a text cell) will not be considered as a complete answer**, and will only be attributed a fraction opf the grade attributed to the question.\n",
    "- any code produced should be commented whenever appropriate;\n",
    "- include appropriate axis labels and a relevant title to each figure reported in the notebook;\n",
    "- **document any function you introduce (using docstrings)**, and comment your code whenever appropriate (see, *e.g.*, [PEP 8 style recommendations](https://www.python.org/dev/peps/pep-0008/)). \n",
    "     - use a reference docstring style, *e.g.*, the [google docstring style](https://sphinxcontrib-napoleon.readthedocs.io/en/latest/example_google.html).\n",
    "- **give a clear structure to your notebook**: longer theoretical explanations should be reported in markdown cells. Include LaTeX equations to improve the clarity of the document.\n",
    "\n",
    "**Additional evaluation criteria**:\n",
    "- Code clarity / conciseness / documentation\n",
    "- Comment quality / overall presentation\n",
    "\n",
    "## <a name=\"content\">Contents</a>\n",
    "- [Exercise 1: Simulating $M/M/1/\\infty$ and $M/M/1/K$ queues](#ex1)\n",
    "- [Exercise 2: Drawing samples from the Ising model with the Metropolis-Hasings algorithm](#ex2)\n",
    "- [Exercise 3: Simulated annealing for the *traveling salesman* problem](#ex3)"
   ]
  },
  {
   "cell_type": "code",
   "execution_count": 1,
   "metadata": {},
   "outputs": [],
   "source": [
    "# \"IPython magic command\" to automatically reload any module whose\n",
    "# implementation has been modified during the execution of the notebook\n",
    "%load_ext autoreload\n",
    "%autoreload 2\n",
    "import numpy as np\n",
    "import matplotlib.pyplot as plt"
   ]
  },
  {
   "attachments": {},
   "cell_type": "markdown",
   "metadata": {},
   "source": [
    "---\n",
    "## <a name=\"ex1\">Exercise 1: Simulating $M/M/1/\\infty$ and $M/M/1/K$ queues</a> [(&#8593;)](#content)\n",
    "\n",
    "This exercise will focus on simulating an $M/M/1/\\infty$ and an $M/M/1/K$ queue to illustrate some of the results covered in lecture 5. <!--in Chapter 2 and in TD.3-->\n",
    "\n",
    "In the following, the parameter of the exponential distributions governing the inter-arrival and service times will be denoted $\\beta$ (birth move) and $\\delta$ (death move) respectively, with $0< \\beta < \\delta $. The time instants at which changes occur in the process $X(t)$ will be denoted by $T_n$ for $n \\in \\mathbb{N}$. We further define:\n",
    "\n",
    "\\begin{equation}\n",
    "    \\rho = \\frac{\\beta}{\\delta}, \\; X_n = X(T_n).\n",
    "\\end{equation}\n",
    "\n",
    "### $M/M/1/\\infty$-queue\n",
    "\n",
    "1\\. a) Using the lecture notes, implement a function to simulate a trajectory $X(t)$ of an $M/M/1/\\infty$ process, where $X(t)$ represents the number of customers in the system at time $t$. \n",
    "<!--  from Chapter 2, Section 2.3.1 -->\n",
    "\n",
    "> *Remark*: the signature of the function could be of the form:\n",
    "``` python\n",
    "def run_mm1inf(beta: float, delta: float, rng, niter: int):\n",
    "    \"\"\"\n",
    "    Args:\n",
    "        beta (float): birth rate.\n",
    "        delta (float): death rate\n",
    "        rng (int): random seed (or random generator).\n",
    "        niter (int): number of changes (events) in \n",
    "                     the process.\n",
    "    Raises:\n",
    "        ValueError: error triggered if beta <= 0.\n",
    "        ValueError: error triggered if delta <= 0.\n",
    "    Returns:\n",
    "        X (array_like): trajectory :math:`(X(t_n))`.\n",
    "        T (array_like): time instants at which a change in \n",
    "                        the process occurs :math:`(t_n)`.\n",
    "    \"\"\" \n",
    "```"
   ]
  },
  {
   "cell_type": "code",
   "execution_count": 10,
   "metadata": {},
   "outputs": [],
   "source": [
    "def run_mm1inf(beta: float, delta: float, rng, niter: int):\n",
    "    \"\"\"\n",
    "    Args:\n",
    "        beta (float): birth rate.\n",
    "        delta (float): death rate\n",
    "        rng : random seed (or random generator).\n",
    "        niter (int): number of changes (events) in \n",
    "                     the process.\n",
    "    Raises:\n",
    "        ValueError: error triggered if beta <= 0.\n",
    "        ValueError: error triggered if delta <= 0.\n",
    "    Returns:\n",
    "        X (array_like): trajectory (X(t_n)).\n",
    "        T (array_like): time instants at which a change in \n",
    "                        the process occurs (t_n).\n",
    "    \"\"\" \n",
    "    if beta <= 0:\n",
    "        raise ValueError(\"Beta must be greater than 0.\")\n",
    "    if delta <= 0:\n",
    "        raise ValueError(\"Delta must be greater than 0.\")\n",
    "    np.random.seed(rng)\n",
    "    beta=1/beta\n",
    "    delta=1/delta\n",
    "    T,X=np.zeros(niter),np.zeros(niter)\n",
    "\n",
    "    for i in range(1,niter):\n",
    "        if X[i-1]==0:\n",
    "            T[i]=T[i-1]+np.random.exponential(beta)\n",
    "            X[i]=X[i-1]+1\n",
    "        else:\n",
    "            Tb = np.random.exponential(beta)\n",
    "            Td = np.random.exponential(delta)\n",
    "            if Tb<Td : \n",
    "                T[i]=T[i-1]+Tb\n",
    "                X[i]=X[i-1]+1\n",
    "            else:\n",
    "                T[i]=T[i-1]+Td\n",
    "                X[i]=X[i-1]-1\n",
    "    return X,T"
   ]
  },
  {
   "attachments": {},
   "cell_type": "markdown",
   "metadata": {},
   "source": [
    "b) Display the generated trajectory of the process for $(\\beta,\\delta) = (5, 6)$ (e.g., use only the last 100 samples of the trajectory to obtain a representative illustration).\n",
    "\n",
    "> *Hint*: use the function `step` from the matlplotlib library."
   ]
  },
  {
   "cell_type": "code",
   "execution_count": 11,
   "metadata": {},
   "outputs": [
    {
     "data": {
      "image/png": "[encoded data removed]",
      "text/plain": [
       "<Figure size 864x432 with 1 Axes>"
      ]
     },
     "metadata": {
      "needs_background": "light"
     },
     "output_type": "display_data"
    }
   ],
   "source": [
    "X, T = run_mm1inf(beta=5, delta=6, rng=42, niter=1000)\n",
    "\n",
    "# Plotting the last 100 samples of the trajectory\n",
    "plt.figure(figsize=(12, 6))\n",
    "plt.step(T[-100:], X[-100:], where='post')\n",
    "plt.xlabel('Time')\n",
    "plt.ylabel('Number of Customers in System')\n",
    "plt.title('Trajectory of M/M/1/∞ Queue Process')\n",
    "plt.grid(True)\n",
    "plt.show()"
   ]
  },
  {
   "cell_type": "code",
   "execution_count": 12,
   "metadata": {},
   "outputs": [
    {
     "data": {
      "application/vnd.plotly.v1+json": {
       "config": {
        "plotlyServerURL": "https://plot.ly"
       },
       "data": [
        {
         "line": {
          "shape": "hv"
         },
         "mode": "lines+markers",
         "name": "Number of Customers",
         "type": "scatter",
         "x": [
          90.68014514965427,
          90.78278125333617,
          90.79476603335694,
          90.80666944964182,
          90.85222921913467,
          90.87379728680534,
          90.89155115406393,
          90.90227056469719,
          91.04470481518412,
          91.20388516128743,
          91.27701492790483,
          91.36956012145761,
          91.39757590662968,
          91.43364993697325,
          91.5227594260766,
          91.87427497629471,
          92.11871803065641,
          92.12093654266071,
          92.22856014794891,
          92.2324359158422,
          92.25701386873118,
          92.29740199474399,
          92.29984096079374,
          92.56936648712067,
          92.68089075780587,
          92.70413824864491,
          92.80510952049273,
          93.1771476979727,
          93.19779416119002,
          93.23030939793361,
          93.33802576348221,
          93.4216360201753,
          93.54466845235868,
          93.98995015562343,
          94.05310525989077,
          94.14902984211825,
          94.20781565016804,
          94.2156524735168,
          94.33943766048465,
          94.5548199076279,
          94.71344421831304,
          94.72723965846943,
          94.75978321322076,
          94.90336215968584,
          94.91187538356911,
          94.92434445517488,
          94.92637485184318,
          95.14929752567912,
          95.2079205225508,
          95.29398581268417,
          95.32812033853584,
          95.34538358706823,
          95.56132366907492,
          95.56485157215019,
          95.58200055364158,
          95.6520382667023,
          95.73223312600719,
          95.75380147418338,
          95.94471059987927,
          96.07065487116036,
          96.07922618862217,
          96.13697167672845,
          96.29047264414002,
          96.46512974454899,
          96.64321405967367,
          96.67062919206974,
          96.71302859004822,
          96.80612481193076,
          96.92187612011543,
          96.96776757416113,
          96.99367576176212,
          97.16666310860816,
          97.23401146418396,
          97.54636948551415,
          97.59481524758326,
          97.69767953222528,
          97.91497266588107,
          98.21459441665418,
          98.24714778292484,
          98.40465118776328,
          98.86645108576451,
          98.87527777498802,
          98.89881963168014,
          99.15773040249222,
          99.19775990388389,
          99.3387442266518,
          99.55870482975966,
          99.71498565875042,
          99.8333206004285,
          99.90395637042882,
          100.07044833192245,
          100.23901535773493,
          100.26808846948312,
          100.3919033732164,
          100.39377845964928,
          100.65304119677154,
          100.67393073871376,
          100.7119642155907,
          100.87393859806022,
          100.90865283149913
         ],
         "y": [
          4,
          3,
          4,
          5,
          4,
          3,
          2,
          1,
          2,
          1,
          2,
          1,
          2,
          1,
          0,
          1,
          0,
          1,
          2,
          3,
          2,
          1,
          2,
          1,
          0,
          1,
          0,
          1,
          2,
          3,
          2,
          1,
          2,
          3,
          2,
          1,
          2,
          3,
          4,
          5,
          4,
          5,
          6,
          7,
          8,
          7,
          6,
          5,
          4,
          5,
          4,
          3,
          4,
          3,
          4,
          5,
          4,
          3,
          4,
          3,
          4,
          3,
          2,
          3,
          2,
          3,
          2,
          3,
          4,
          3,
          4,
          3,
          4,
          3,
          2,
          1,
          0,
          1,
          0,
          1,
          0,
          1,
          0,
          1,
          0,
          1,
          0,
          1,
          0,
          1,
          2,
          1,
          0,
          1,
          2,
          3,
          4,
          3,
          4,
          3
         ]
        }
       ],
       "layout": {
        "showlegend": false,
        "template": {
         "data": {
          "bar": [
           {
            "error_x": {
             "color": "#2a3f5f"
            },
            "error_y": {
             "color": "#2a3f5f"
            },
            "marker": {
             "line": {
              "color": "#E5ECF6",
              "width": 0.5
             },
             "pattern": {
              "fillmode": "overlay",
              "size": 10,
              "solidity": 0.2
             }
            },
            "type": "bar"
           }
          ],
          "barpolar": [
           {
            "marker": {
             "line": {
              "color": "#E5ECF6",
              "width": 0.5
             },
             "pattern": {
              "fillmode": "overlay",
              "size": 10,
              "solidity": 0.2
             }
            },
            "type": "barpolar"
           }
          ],
          "carpet": [
           {
            "aaxis": {
             "endlinecolor": "#2a3f5f",
             "gridcolor": "white",
             "linecolor": "white",
             "minorgridcolor": "white",
             "startlinecolor": "#2a3f5f"
            },
            "baxis": {
             "endlinecolor": "#2a3f5f",
             "gridcolor": "white",
             "linecolor": "white",
             "minorgridcolor": "white",
             "startlinecolor": "#2a3f5f"
            },
            "type": "carpet"
           }
          ],
          "choropleth": [
           {
            "colorbar": {
             "outlinewidth": 0,
             "ticks": ""
            },
            "type": "choropleth"
           }
          ],
          "contour": [
           {
            "colorbar": {
             "outlinewidth": 0,
             "ticks": ""
            },
            "colorscale": [
             [
              0,
              "#0d0887"
             ],
             [
              0.1111111111111111,
              "#46039f"
             ],
             [
              0.2222222222222222,
              "#7201a8"
             ],
             [
              0.3333333333333333,
              "#9c179e"
             ],
             [
              0.4444444444444444,
              "#bd3786"
             ],
             [
              0.5555555555555556,
              "#d8576b"
             ],
             [
              0.6666666666666666,
              "#ed7953"
             ],
             [
              0.7777777777777778,
              "#fb9f3a"
             ],
             [
              0.8888888888888888,
              "#fdca26"
             ],
             [
              1,
              "#f0f921"
             ]
            ],
            "type": "contour"
           }
          ],
          "contourcarpet": [
           {
            "colorbar": {
             "outlinewidth": 0,
             "ticks": ""
            },
            "type": "contourcarpet"
           }
          ],
          "heatmap": [
           {
            "colorbar": {
             "outlinewidth": 0,
             "ticks": ""
            },
            "colorscale": [
             [
              0,
              "#0d0887"
             ],
             [
              0.1111111111111111,
              "#46039f"
             ],
             [
              0.2222222222222222,
              "#7201a8"
             ],
             [
              0.3333333333333333,
              "#9c179e"
             ],
             [
              0.4444444444444444,
              "#bd3786"
             ],
             [
              0.5555555555555556,
              "#d8576b"
             ],
             [
              0.6666666666666666,
              "#ed7953"
             ],
             [
              0.7777777777777778,
              "#fb9f3a"
             ],
             [
              0.8888888888888888,
              "#fdca26"
             ],
             [
              1,
              "#f0f921"
             ]
            ],
            "type": "heatmap"
           }
          ],
          "heatmapgl": [
           {
            "colorbar": {
             "outlinewidth": 0,
             "ticks": ""
            },
            "colorscale": [
             [
              0,
              "#0d0887"
             ],
             [
              0.1111111111111111,
              "#46039f"
             ],
             [
              0.2222222222222222,
              "#7201a8"
             ],
             [
              0.3333333333333333,
              "#9c179e"
             ],
             [
              0.4444444444444444,
              "#bd3786"
             ],
             [
              0.5555555555555556,
              "#d8576b"
             ],
             [
              0.6666666666666666,
              "#ed7953"
             ],
             [
              0.7777777777777778,
              "#fb9f3a"
             ],
             [
              0.8888888888888888,
              "#fdca26"
             ],
             [
              1,
              "#f0f921"
             ]
            ],
            "type": "heatmapgl"
           }
          ],
          "histogram": [
           {
            "marker": {
             "pattern": {
              "fillmode": "overlay",
              "size": 10,
              "solidity": 0.2
             }
            },
            "type": "histogram"
           }
          ],
          "histogram2d": [
           {
            "colorbar": {
             "outlinewidth": 0,
             "ticks": ""
            },
            "colorscale": [
             [
              0,
              "#0d0887"
             ],
             [
              0.1111111111111111,
              "#46039f"
             ],
             [
              0.2222222222222222,
              "#7201a8"
             ],
             [
              0.3333333333333333,
              "#9c179e"
             ],
             [
              0.4444444444444444,
              "#bd3786"
             ],
             [
              0.5555555555555556,
              "#d8576b"
             ],
             [
              0.6666666666666666,
              "#ed7953"
             ],
             [
              0.7777777777777778,
              "#fb9f3a"
             ],
             [
              0.8888888888888888,
              "#fdca26"
             ],
             [
              1,
              "#f0f921"
             ]
            ],
            "type": "histogram2d"
           }
          ],
          "histogram2dcontour": [
           {
            "colorbar": {
             "outlinewidth": 0,
             "ticks": ""
            },
            "colorscale": [
             [
              0,
              "#0d0887"
             ],
             [
              0.1111111111111111,
              "#46039f"
             ],
             [
              0.2222222222222222,
              "#7201a8"
             ],
             [
              0.3333333333333333,
              "#9c179e"
             ],
             [
              0.4444444444444444,
              "#bd3786"
             ],
             [
              0.5555555555555556,
              "#d8576b"
             ],
             [
              0.6666666666666666,
              "#ed7953"
             ],
             [
              0.7777777777777778,
              "#fb9f3a"
             ],
             [
              0.8888888888888888,
              "#fdca26"
             ],
             [
              1,
              "#f0f921"
             ]
            ],
            "type": "histogram2dcontour"
           }
          ],
          "mesh3d": [
           {
            "colorbar": {
             "outlinewidth": 0,
             "ticks": ""
            },
            "type": "mesh3d"
           }
          ],
          "parcoords": [
           {
            "line": {
             "colorbar": {
              "outlinewidth": 0,
              "ticks": ""
             }
            },
            "type": "parcoords"
           }
          ],
          "pie": [
           {
            "automargin": true,
            "type": "pie"
           }
          ],
          "scatter": [
           {
            "fillpattern": {
             "fillmode": "overlay",
             "size": 10,
             "solidity": 0.2
            },
            "type": "scatter"
           }
          ],
          "scatter3d": [
           {
            "line": {
             "colorbar": {
              "outlinewidth": 0,
              "ticks": ""
             }
            },
            "marker": {
             "colorbar": {
              "outlinewidth": 0,
              "ticks": ""
             }
            },
            "type": "scatter3d"
           }
          ],
          "scattercarpet": [
           {
            "marker": {
             "colorbar": {
              "outlinewidth": 0,
              "ticks": ""
             }
            },
            "type": "scattercarpet"
           }
          ],
          "scattergeo": [
           {
            "marker": {
             "colorbar": {
              "outlinewidth": 0,
              "ticks": ""
             }
            },
            "type": "scattergeo"
           }
          ],
          "scattergl": [
           {
            "marker": {
             "colorbar": {
              "outlinewidth": 0,
              "ticks": ""
             }
            },
            "type": "scattergl"
           }
          ],
          "scattermapbox": [
           {
            "marker": {
             "colorbar": {
              "outlinewidth": 0,
              "ticks": ""
             }
            },
            "type": "scattermapbox"
           }
          ],
          "scatterpolar": [
           {
            "marker": {
             "colorbar": {
              "outlinewidth": 0,
              "ticks": ""
             }
            },
            "type": "scatterpolar"
           }
          ],
          "scatterpolargl": [
           {
            "marker": {
             "colorbar": {
              "outlinewidth": 0,
              "ticks": ""
             }
            },
            "type": "scatterpolargl"
           }
          ],
          "scatterternary": [
           {
            "marker": {
             "colorbar": {
              "outlinewidth": 0,
              "ticks": ""
             }
            },
            "type": "scatterternary"
           }
          ],
          "surface": [
           {
            "colorbar": {
             "outlinewidth": 0,
             "ticks": ""
            },
            "colorscale": [
             [
              0,
              "#0d0887"
             ],
             [
              0.1111111111111111,
              "#46039f"
             ],
             [
              0.2222222222222222,
              "#7201a8"
             ],
             [
              0.3333333333333333,
              "#9c179e"
             ],
             [
              0.4444444444444444,
              "#bd3786"
             ],
             [
              0.5555555555555556,
              "#d8576b"
             ],
             [
              0.6666666666666666,
              "#ed7953"
             ],
             [
              0.7777777777777778,
              "#fb9f3a"
             ],
             [
              0.8888888888888888,
              "#fdca26"
             ],
             [
              1,
              "#f0f921"
             ]
            ],
            "type": "surface"
           }
          ],
          "table": [
           {
            "cells": {
             "fill": {
              "color": "#EBF0F8"
             },
             "line": {
              "color": "white"
             }
            },
            "header": {
             "fill": {
              "color": "#C8D4E3"
             },
             "line": {
              "color": "white"
             }
            },
            "type": "table"
           }
          ]
         },
         "layout": {
          "annotationdefaults": {
           "arrowcolor": "#2a3f5f",
           "arrowhead": 0,
           "arrowwidth": 1
          },
          "autotypenumbers": "strict",
          "coloraxis": {
           "colorbar": {
            "outlinewidth": 0,
            "ticks": ""
           }
          },
          "colorscale": {
           "diverging": [
            [
             0,
             "#8e0152"
            ],
            [
             0.1,
             "#c51b7d"
            ],
            [
             0.2,
             "#de77ae"
            ],
            [
             0.3,
             "#f1b6da"
            ],
            [
             0.4,
             "#fde0ef"
            ],
            [
             0.5,
             "#f7f7f7"
            ],
            [
             0.6,
             "#e6f5d0"
            ],
            [
             0.7,
             "#b8e186"
            ],
            [
             0.8,
             "#7fbc41"
            ],
            [
             0.9,
             "#4d9221"
            ],
            [
             1,
             "#276419"
            ]
           ],
           "sequential": [
            [
             0,
             "#0d0887"
            ],
            [
             0.1111111111111111,
             "#46039f"
            ],
            [
             0.2222222222222222,
             "#7201a8"
            ],
            [
             0.3333333333333333,
             "#9c179e"
            ],
            [
             0.4444444444444444,
             "#bd3786"
            ],
            [
             0.5555555555555556,
             "#d8576b"
            ],
            [
             0.6666666666666666,
             "#ed7953"
            ],
            [
             0.7777777777777778,
             "#fb9f3a"
            ],
            [
             0.8888888888888888,
             "#fdca26"
            ],
            [
             1,
             "#f0f921"
            ]
           ],
           "sequentialminus": [
            [
             0,
             "#0d0887"
            ],
            [
             0.1111111111111111,
             "#46039f"
            ],
            [
             0.2222222222222222,
             "#7201a8"
            ],
            [
             0.3333333333333333,
             "#9c179e"
            ],
            [
             0.4444444444444444,
             "#bd3786"
            ],
            [
             0.5555555555555556,
             "#d8576b"
            ],
            [
             0.6666666666666666,
             "#ed7953"
            ],
            [
             0.7777777777777778,
             "#fb9f3a"
            ],
            [
             0.8888888888888888,
             "#fdca26"
            ],
            [
             1,
             "#f0f921"
            ]
           ]
          },
          "colorway": [
           "#636efa",
           "#EF553B",
           "#00cc96",
           "#ab63fa",
           "#FFA15A",
           "#19d3f3",
           "#FF6692",
           "#B6E880",
           "#FF97FF",
           "#FECB52"
          ],
          "font": {
           "color": "#2a3f5f"
          },
          "geo": {
           "bgcolor": "white",
           "lakecolor": "white",
           "landcolor": "#E5ECF6",
           "showlakes": true,
           "showland": true,
           "subunitcolor": "white"
          },
          "hoverlabel": {
           "align": "left"
          },
          "hovermode": "closest",
          "mapbox": {
           "style": "light"
          },
          "paper_bgcolor": "white",
          "plot_bgcolor": "#E5ECF6",
          "polar": {
           "angularaxis": {
            "gridcolor": "white",
            "linecolor": "white",
            "ticks": ""
           },
           "bgcolor": "#E5ECF6",
           "radialaxis": {
            "gridcolor": "white",
            "linecolor": "white",
            "ticks": ""
           }
          },
          "scene": {
           "xaxis": {
            "backgroundcolor": "#E5ECF6",
            "gridcolor": "white",
            "gridwidth": 2,
            "linecolor": "white",
            "showbackground": true,
            "ticks": "",
            "zerolinecolor": "white"
           },
           "yaxis": {
            "backgroundcolor": "#E5ECF6",
            "gridcolor": "white",
            "gridwidth": 2,
            "linecolor": "white",
            "showbackground": true,
            "ticks": "",
            "zerolinecolor": "white"
           },
           "zaxis": {
            "backgroundcolor": "#E5ECF6",
            "gridcolor": "white",
            "gridwidth": 2,
            "linecolor": "white",
            "showbackground": true,
            "ticks": "",
            "zerolinecolor": "white"
           }
          },
          "shapedefaults": {
           "line": {
            "color": "#2a3f5f"
           }
          },
          "ternary": {
           "aaxis": {
            "gridcolor": "white",
            "linecolor": "white",
            "ticks": ""
           },
           "baxis": {
            "gridcolor": "white",
            "linecolor": "white",
            "ticks": ""
           },
           "bgcolor": "#E5ECF6",
           "caxis": {
            "gridcolor": "white",
            "linecolor": "white",
            "ticks": ""
           }
          },
          "title": {
           "x": 0.05
          },
          "xaxis": {
           "automargin": true,
           "gridcolor": "white",
           "linecolor": "white",
           "ticks": "",
           "title": {
            "standoff": 15
           },
           "zerolinecolor": "white",
           "zerolinewidth": 2
          },
          "yaxis": {
           "automargin": true,
           "gridcolor": "white",
           "linecolor": "white",
           "ticks": "",
           "title": {
            "standoff": 15
           },
           "zerolinecolor": "white",
           "zerolinewidth": 2
          }
         }
        },
        "title": {
         "text": "Trajectory of M/M/1/∞ Queue Process"
        },
        "xaxis": {
         "title": {
          "text": "Time"
         }
        },
        "yaxis": {
         "title": {
          "text": "Number of Customers in System"
         }
        }
       }
      }
     },
     "metadata": {},
     "output_type": "display_data"
    }
   ],
   "source": [
    "import plotly.graph_objects as go\n",
    "\n",
    "# Creating a step plot using plotly\n",
    "fig = go.Figure()\n",
    "fig.add_trace(go.Scatter(x=T[-100:], y=X[-100:], mode='lines+markers', name='Number of Customers',\n",
    "                         line=dict(shape='hv')))  # 'hv' creates a horizontal-vertical step plot\n",
    "\n",
    "# Updating layout\n",
    "fig.update_layout(\n",
    "    title='Trajectory of M/M/1/∞ Queue Process',\n",
    "    xaxis_title='Time',\n",
    "    yaxis_title='Number of Customers in System',\n",
    "    showlegend=False\n",
    ")\n",
    "fig.show()"
   ]
  },
  {
   "attachments": {},
   "cell_type": "markdown",
   "metadata": {},
   "source": [
    "2\\. a) Display on the same graph the normalized histogram of $X(t)$ and it's stationary distribution $\\pi$ defined by (see Proposition 2.1 in lecture 5)\n",
    "\n",
    "\\begin{equation}\n",
    "    (\\forall i \\in \\mathbb{N}), \\; \\pi(i) = (1 - \\rho)\\rho^i.\n",
    "\\end{equation}\n",
    "\n",
    "What does this graph illustrate?"
   ]
  },
  {
   "cell_type": "code",
   "execution_count": 14,
   "metadata": {},
   "outputs": [
    {
     "data": {
      "application/vnd.plotly.v1+json": {
       "config": {
        "plotlyServerURL": "https://plot.ly"
       },
       "data": [
        {
         "name": "Empirical Distribution (Histogram of X(t))",
         "type": "bar",
         "x": [
          0.48148148148148145,
          1.4444444444444444,
          2.4074074074074074,
          3.3703703703703702,
          4.333333333333333,
          5.296296296296296,
          6.2592592592592595,
          7.222222222222221,
          8.185185185185185,
          9.148148148148149,
          10.11111111111111,
          11.074074074074073,
          12.037037037037036,
          13,
          13.962962962962962,
          14.925925925925924,
          15.88888888888889,
          16.85185185185185,
          17.814814814814813,
          18.77777777777778,
          19.74074074074074,
          20.703703703703702,
          21.666666666666664,
          22.629629629629626,
          23.59259259259259,
          24.555555555555554,
          25.51851851851852
         ],
         "y": [
          0.10384615384615385,
          0.17030769230769233,
          0.11111538461538462,
          0.08100000000000002,
          0.06023076923076921,
          0.0456923076923077,
          0.048807692307692316,
          0.04776923076923078,
          0.039461538461538465,
          0.03946153846153843,
          0.03634615384615389,
          0.02803846153846152,
          0.01973076923076925,
          0.010384615384615376,
          0.007269230769230777,
          0.011423076923076914,
          0.010384615384615376,
          0.006230769230769238,
          0.0051923076923076975,
          0.013499999999999965,
          0.025961538461538487,
          0.025961538461538487,
          0.028038461538461568,
          0.03115384615384607,
          0.02180769230769233,
          0.008307692307692318,
          0.0010384615384615356
         ]
        },
        {
         "line": {
          "color": "red"
         },
         "mode": "lines+markers",
         "name": "Theoretical Stationary Distribution (pi)",
         "type": "scatter",
         "x": [
          0,
          1,
          2,
          3,
          4,
          5,
          6,
          7,
          8,
          9,
          10,
          11,
          12,
          13,
          14,
          15,
          16,
          17,
          18,
          19,
          20,
          21,
          22,
          23,
          24,
          25,
          26
         ],
         "y": [
          0.16666666666666663,
          0.13888888888888887,
          0.11574074074074073,
          0.09645061728395062,
          0.08037551440329217,
          0.06697959533607682,
          0.055816329446730685,
          0.04651360787227557,
          0.03876133989356298,
          0.03230111657796915,
          0.026917597148307625,
          0.022431330956923023,
          0.018692775797435852,
          0.01557731316452988,
          0.0129810943037749,
          0.010817578586479084,
          0.009014648822065903,
          0.007512207351721587,
          0.006260172793101322,
          0.005216810660917768,
          0.0043473422174314744,
          0.0036227851811928952,
          0.0030189876509940793,
          0.0025158230424950664,
          0.002096519202079222,
          0.0017470993350660186,
          0.0014559161125550155
         ]
        }
       ],
       "layout": {
        "barmode": "overlay",
        "template": {
         "data": {
          "bar": [
           {
            "error_x": {
             "color": "#2a3f5f"
            },
            "error_y": {
             "color": "#2a3f5f"
            },
            "marker": {
             "line": {
              "color": "#E5ECF6",
              "width": 0.5
             },
             "pattern": {
              "fillmode": "overlay",
              "size": 10,
              "solidity": 0.2
             }
            },
            "type": "bar"
           }
          ],
          "barpolar": [
           {
            "marker": {
             "line": {
              "color": "#E5ECF6",
              "width": 0.5
             },
             "pattern": {
              "fillmode": "overlay",
              "size": 10,
              "solidity": 0.2
             }
            },
            "type": "barpolar"
           }
          ],
          "carpet": [
           {
            "aaxis": {
             "endlinecolor": "#2a3f5f",
             "gridcolor": "white",
             "linecolor": "white",
             "minorgridcolor": "white",
             "startlinecolor": "#2a3f5f"
            },
            "baxis": {
             "endlinecolor": "#2a3f5f",
             "gridcolor": "white",
             "linecolor": "white",
             "minorgridcolor": "white",
             "startlinecolor": "#2a3f5f"
            },
            "type": "carpet"
           }
          ],
          "choropleth": [
           {
            "colorbar": {
             "outlinewidth": 0,
             "ticks": ""
            },
            "type": "choropleth"
           }
          ],
          "contour": [
           {
            "colorbar": {
             "outlinewidth": 0,
             "ticks": ""
            },
            "colorscale": [
             [
              0,
              "#0d0887"
             ],
             [
              0.1111111111111111,
              "#46039f"
             ],
             [
              0.2222222222222222,
              "#7201a8"
             ],
             [
              0.3333333333333333,
              "#9c179e"
             ],
             [
              0.4444444444444444,
              "#bd3786"
             ],
             [
              0.5555555555555556,
              "#d8576b"
             ],
             [
              0.6666666666666666,
              "#ed7953"
             ],
             [
              0.7777777777777778,
              "#fb9f3a"
             ],
             [
              0.8888888888888888,
              "#fdca26"
             ],
             [
              1,
              "#f0f921"
             ]
            ],
            "type": "contour"
           }
          ],
          "contourcarpet": [
           {
            "colorbar": {
             "outlinewidth": 0,
             "ticks": ""
            },
            "type": "contourcarpet"
           }
          ],
          "heatmap": [
           {
            "colorbar": {
             "outlinewidth": 0,
             "ticks": ""
            },
            "colorscale": [
             [
              0,
              "#0d0887"
             ],
             [
              0.1111111111111111,
              "#46039f"
             ],
             [
              0.2222222222222222,
              "#7201a8"
             ],
             [
              0.3333333333333333,
              "#9c179e"
             ],
             [
              0.4444444444444444,
              "#bd3786"
             ],
             [
              0.5555555555555556,
              "#d8576b"
             ],
             [
              0.6666666666666666,
              "#ed7953"
             ],
             [
              0.7777777777777778,
              "#fb9f3a"
             ],
             [
              0.8888888888888888,
              "#fdca26"
             ],
             [
              1,
              "#f0f921"
             ]
            ],
            "type": "heatmap"
           }
          ],
          "heatmapgl": [
           {
            "colorbar": {
             "outlinewidth": 0,
             "ticks": ""
            },
            "colorscale": [
             [
              0,
              "#0d0887"
             ],
             [
              0.1111111111111111,
              "#46039f"
             ],
             [
              0.2222222222222222,
              "#7201a8"
             ],
             [
              0.3333333333333333,
              "#9c179e"
             ],
             [
              0.4444444444444444,
              "#bd3786"
             ],
             [
              0.5555555555555556,
              "#d8576b"
             ],
             [
              0.6666666666666666,
              "#ed7953"
             ],
             [
              0.7777777777777778,
              "#fb9f3a"
             ],
             [
              0.8888888888888888,
              "#fdca26"
             ],
             [
              1,
              "#f0f921"
             ]
            ],
            "type": "heatmapgl"
           }
          ],
          "histogram": [
           {
            "marker": {
             "pattern": {
              "fillmode": "overlay",
              "size": 10,
              "solidity": 0.2
             }
            },
            "type": "histogram"
           }
          ],
          "histogram2d": [
           {
            "colorbar": {
             "outlinewidth": 0,
             "ticks": ""
            },
            "colorscale": [
             [
              0,
              "#0d0887"
             ],
             [
              0.1111111111111111,
              "#46039f"
             ],
             [
              0.2222222222222222,
              "#7201a8"
             ],
             [
              0.3333333333333333,
              "#9c179e"
             ],
             [
              0.4444444444444444,
              "#bd3786"
             ],
             [
              0.5555555555555556,
              "#d8576b"
             ],
             [
              0.6666666666666666,
              "#ed7953"
             ],
             [
              0.7777777777777778,
              "#fb9f3a"
             ],
             [
              0.8888888888888888,
              "#fdca26"
             ],
             [
              1,
              "#f0f921"
             ]
            ],
            "type": "histogram2d"
           }
          ],
          "histogram2dcontour": [
           {
            "colorbar": {
             "outlinewidth": 0,
             "ticks": ""
            },
            "colorscale": [
             [
              0,
              "#0d0887"
             ],
             [
              0.1111111111111111,
              "#46039f"
             ],
             [
              0.2222222222222222,
              "#7201a8"
             ],
             [
              0.3333333333333333,
              "#9c179e"
             ],
             [
              0.4444444444444444,
              "#bd3786"
             ],
             [
              0.5555555555555556,
              "#d8576b"
             ],
             [
              0.6666666666666666,
              "#ed7953"
             ],
             [
              0.7777777777777778,
              "#fb9f3a"
             ],
             [
              0.8888888888888888,
              "#fdca26"
             ],
             [
              1,
              "#f0f921"
             ]
            ],
            "type": "histogram2dcontour"
           }
          ],
          "mesh3d": [
           {
            "colorbar": {
             "outlinewidth": 0,
             "ticks": ""
            },
            "type": "mesh3d"
           }
          ],
          "parcoords": [
           {
            "line": {
             "colorbar": {
              "outlinewidth": 0,
              "ticks": ""
             }
            },
            "type": "parcoords"
           }
          ],
          "pie": [
           {
            "automargin": true,
            "type": "pie"
           }
          ],
          "scatter": [
           {
            "fillpattern": {
             "fillmode": "overlay",
             "size": 10,
             "solidity": 0.2
            },
            "type": "scatter"
           }
          ],
          "scatter3d": [
           {
            "line": {
             "colorbar": {
              "outlinewidth": 0,
              "ticks": ""
             }
            },
            "marker": {
             "colorbar": {
              "outlinewidth": 0,
              "ticks": ""
             }
            },
            "type": "scatter3d"
           }
          ],
          "scattercarpet": [
           {
            "marker": {
             "colorbar": {
              "outlinewidth": 0,
              "ticks": ""
             }
            },
            "type": "scattercarpet"
           }
          ],
          "scattergeo": [
           {
            "marker": {
             "colorbar": {
              "outlinewidth": 0,
              "ticks": ""
             }
            },
            "type": "scattergeo"
           }
          ],
          "scattergl": [
           {
            "marker": {
             "colorbar": {
              "outlinewidth": 0,
              "ticks": ""
             }
            },
            "type": "scattergl"
           }
          ],
          "scattermapbox": [
           {
            "marker": {
             "colorbar": {
              "outlinewidth": 0,
              "ticks": ""
             }
            },
            "type": "scattermapbox"
           }
          ],
          "scatterpolar": [
           {
            "marker": {
             "colorbar": {
              "outlinewidth": 0,
              "ticks": ""
             }
            },
            "type": "scatterpolar"
           }
          ],
          "scatterpolargl": [
           {
            "marker": {
             "colorbar": {
              "outlinewidth": 0,
              "ticks": ""
             }
            },
            "type": "scatterpolargl"
           }
          ],
          "scatterternary": [
           {
            "marker": {
             "colorbar": {
              "outlinewidth": 0,
              "ticks": ""
             }
            },
            "type": "scatterternary"
           }
          ],
          "surface": [
           {
            "colorbar": {
             "outlinewidth": 0,
             "ticks": ""
            },
            "colorscale": [
             [
              0,
              "#0d0887"
             ],
             [
              0.1111111111111111,
              "#46039f"
             ],
             [
              0.2222222222222222,
              "#7201a8"
             ],
             [
              0.3333333333333333,
              "#9c179e"
             ],
             [
              0.4444444444444444,
              "#bd3786"
             ],
             [
              0.5555555555555556,
              "#d8576b"
             ],
             [
              0.6666666666666666,
              "#ed7953"
             ],
             [
              0.7777777777777778,
              "#fb9f3a"
             ],
             [
              0.8888888888888888,
              "#fdca26"
             ],
             [
              1,
              "#f0f921"
             ]
            ],
            "type": "surface"
           }
          ],
          "table": [
           {
            "cells": {
             "fill": {
              "color": "#EBF0F8"
             },
             "line": {
              "color": "white"
             }
            },
            "header": {
             "fill": {
              "color": "#C8D4E3"
             },
             "line": {
              "color": "white"
             }
            },
            "type": "table"
           }
          ]
         },
         "layout": {
          "annotationdefaults": {
           "arrowcolor": "#2a3f5f",
           "arrowhead": 0,
           "arrowwidth": 1
          },
          "autotypenumbers": "strict",
          "coloraxis": {
           "colorbar": {
            "outlinewidth": 0,
            "ticks": ""
           }
          },
          "colorscale": {
           "diverging": [
            [
             0,
             "#8e0152"
            ],
            [
             0.1,
             "#c51b7d"
            ],
            [
             0.2,
             "#de77ae"
            ],
            [
             0.3,
             "#f1b6da"
            ],
            [
             0.4,
             "#fde0ef"
            ],
            [
             0.5,
             "#f7f7f7"
            ],
            [
             0.6,
             "#e6f5d0"
            ],
            [
             0.7,
             "#b8e186"
            ],
            [
             0.8,
             "#7fbc41"
            ],
            [
             0.9,
             "#4d9221"
            ],
            [
             1,
             "#276419"
            ]
           ],
           "sequential": [
            [
             0,
             "#0d0887"
            ],
            [
             0.1111111111111111,
             "#46039f"
            ],
            [
             0.2222222222222222,
             "#7201a8"
            ],
            [
             0.3333333333333333,
             "#9c179e"
            ],
            [
             0.4444444444444444,
             "#bd3786"
            ],
            [
             0.5555555555555556,
             "#d8576b"
            ],
            [
             0.6666666666666666,
             "#ed7953"
            ],
            [
             0.7777777777777778,
             "#fb9f3a"
            ],
            [
             0.8888888888888888,
             "#fdca26"
            ],
            [
             1,
             "#f0f921"
            ]
           ],
           "sequentialminus": [
            [
             0,
             "#0d0887"
            ],
            [
             0.1111111111111111,
             "#46039f"
            ],
            [
             0.2222222222222222,
             "#7201a8"
            ],
            [
             0.3333333333333333,
             "#9c179e"
            ],
            [
             0.4444444444444444,
             "#bd3786"
            ],
            [
             0.5555555555555556,
             "#d8576b"
            ],
            [
             0.6666666666666666,
             "#ed7953"
            ],
            [
             0.7777777777777778,
             "#fb9f3a"
            ],
            [
             0.8888888888888888,
             "#fdca26"
            ],
            [
             1,
             "#f0f921"
            ]
           ]
          },
          "colorway": [
           "#636efa",
           "#EF553B",
           "#00cc96",
           "#ab63fa",
           "#FFA15A",
           "#19d3f3",
           "#FF6692",
           "#B6E880",
           "#FF97FF",
           "#FECB52"
          ],
          "font": {
           "color": "#2a3f5f"
          },
          "geo": {
           "bgcolor": "white",
           "lakecolor": "white",
           "landcolor": "#E5ECF6",
           "showlakes": true,
           "showland": true,
           "subunitcolor": "white"
          },
          "hoverlabel": {
           "align": "left"
          },
          "hovermode": "closest",
          "mapbox": {
           "style": "light"
          },
          "paper_bgcolor": "white",
          "plot_bgcolor": "#E5ECF6",
          "polar": {
           "angularaxis": {
            "gridcolor": "white",
            "linecolor": "white",
            "ticks": ""
           },
           "bgcolor": "#E5ECF6",
           "radialaxis": {
            "gridcolor": "white",
            "linecolor": "white",
            "ticks": ""
           }
          },
          "scene": {
           "xaxis": {
            "backgroundcolor": "#E5ECF6",
            "gridcolor": "white",
            "gridwidth": 2,
            "linecolor": "white",
            "showbackground": true,
            "ticks": "",
            "zerolinecolor": "white"
           },
           "yaxis": {
            "backgroundcolor": "#E5ECF6",
            "gridcolor": "white",
            "gridwidth": 2,
            "linecolor": "white",
            "showbackground": true,
            "ticks": "",
            "zerolinecolor": "white"
           },
           "zaxis": {
            "backgroundcolor": "#E5ECF6",
            "gridcolor": "white",
            "gridwidth": 2,
            "linecolor": "white",
            "showbackground": true,
            "ticks": "",
            "zerolinecolor": "white"
           }
          },
          "shapedefaults": {
           "line": {
            "color": "#2a3f5f"
           }
          },
          "ternary": {
           "aaxis": {
            "gridcolor": "white",
            "linecolor": "white",
            "ticks": ""
           },
           "baxis": {
            "gridcolor": "white",
            "linecolor": "white",
            "ticks": ""
           },
           "bgcolor": "#E5ECF6",
           "caxis": {
            "gridcolor": "white",
            "linecolor": "white",
            "ticks": ""
           }
          },
          "title": {
           "x": 0.05
          },
          "xaxis": {
           "automargin": true,
           "gridcolor": "white",
           "linecolor": "white",
           "ticks": "",
           "title": {
            "standoff": 15
           },
           "zerolinecolor": "white",
           "zerolinewidth": 2
          },
          "yaxis": {
           "automargin": true,
           "gridcolor": "white",
           "linecolor": "white",
           "ticks": "",
           "title": {
            "standoff": 15
           },
           "zerolinecolor": "white",
           "zerolinewidth": 2
          }
         }
        },
        "title": {
         "text": "Comparison of Empirical and Stationary Distributions for M/M/1/∞ Queue"
        },
        "xaxis": {
         "title": {
          "text": "Number of Customers in System"
         }
        },
        "yaxis": {
         "title": {
          "text": "Probability"
         }
        }
       }
      }
     },
     "metadata": {},
     "output_type": "display_data"
    }
   ],
   "source": [
    "# Parameters\n",
    "rho = beta / delta\n",
    "max_state = int(max(X))  # Maximum state observed in the simulation\n",
    "\n",
    "# Calculating the stationary distribution\n",
    "pi = [(1 - rho) * (rho ** i) for i in range(max_state + 1)]\n",
    "\n",
    "# Generating the normalized histogram\n",
    "hist, bins = np.histogram(X, bins=max_state + 1, range=(0, max_state), density=True)\n",
    "bin_centers = 0.5 * (bins[:-1] + bins[1:])\n",
    "\n",
    "# Creating a plot with Plotly\n",
    "fig = go.Figure()\n",
    "\n",
    "# Adding histogram\n",
    "fig.add_trace(go.Bar(x=bin_centers, y=hist, name='Empirical Distribution (Histogram of X(t))'))\n",
    "\n",
    "# Adding stationary distribution\n",
    "fig.add_trace(go.Scatter(x=list(range(max_state + 1)), y=pi, mode='lines+markers', \n",
    "                         name='Theoretical Stationary Distribution (pi)', line=dict(color='red')))\n",
    "\n",
    "# Updating layout\n",
    "fig.update_layout(\n",
    "    title='Comparison of Empirical and Stationary Distributions for M/M/1/∞ Queue',\n",
    "    xaxis_title='Number of Customers in System',\n",
    "    yaxis_title='Probability',\n",
    "    barmode='overlay'\n",
    ")\n",
    "\n",
    "# Display the plot\n",
    "fig.show()"
   ]
  },
  {
   "cell_type": "markdown",
   "metadata": {},
   "source": [
    "### Observations \n",
    "> This graph  illustrate how well the empirical distribution of the queue's state (as obtained from the simulation) matches the theoretical stationary distribution. We can see the simulation is accurate, and the histogram is well approximating the stationary distribution."
   ]
  },
  {
   "cell_type": "markdown",
   "metadata": {},
   "source": [
    "b) Empirically evaluate the average number of customers, whose value should be close close to the theoretical value $\\frac{\\rho}{1-\\rho}$ (see Definition 2.3 p. 2 in lecture 5)."
   ]
  },
  {
   "cell_type": "code",
   "execution_count": 17,
   "metadata": {},
   "outputs": [
    {
     "name": "stdout",
     "output_type": "stream",
     "text": [
      "différence absolue : 26.73%\n"
     ]
    },
    {
     "data": {
      "text/plain": [
       "(7.22, 5.000000000000002, 6.336483583267339)"
      ]
     },
     "execution_count": 17,
     "metadata": {},
     "output_type": "execute_result"
    }
   ],
   "source": [
    "# Empirical average number of customers\n",
    "empirical_average = np.mean(X)\n",
    "empirical_value_mm1inf = np.average(X[:-1],weights=np.diff(T)) \n",
    "\n",
    "# Theoretical average number of customers\n",
    "theoretical_average = rho / (1 - rho)\n",
    "\n",
    "print(f\"différence absolue : {round((np.abs(empirical_value_mm1inf-theoretical_average)/theoretical_average)*100,2)}%\")\n",
    "\n",
    "empirical_average, theoretical_average, empirical_value_mm1inf\n"
   ]
  },
  {
   "cell_type": "markdown",
   "metadata": {},
   "source": [
    "### $M/M/1/K$\n",
    "\n",
    "Consider the case where the size of the capacity service $K$ is finite, i.e., where the system can only accommodate up to $K$ customers. In comparison with the previous case, any new customer trying to enter the system at a time instant $t$ will be systematically rejected if $X(t) = K$.\n",
    "\n",
    "3\\. a) Propose a variant of the function developed in 1.a) to simulate a trajectory of an $M/M/1/K$ process."
   ]
  },
  {
   "cell_type": "code",
   "execution_count": 19,
   "metadata": {},
   "outputs": [],
   "source": [
    "def run_mm1k(beta: float, delta: float,K: int, rng, niter: int):\n",
    "    \"\"\"\n",
    "    Args:\n",
    "        beta (float): birth rate.\n",
    "        delta (float): death rate\n",
    "        K (int) : \n",
    "        rng : random seed (or random generator).\n",
    "        niter (int): number of changes (events) in \n",
    "                     the process.\n",
    "    Raises:\n",
    "        ValueError: error triggered if beta <= 0.\n",
    "        ValueError: error triggered if delta <= 0.\n",
    "    Returns:\n",
    "        X (array_like): trajectory (X(t_n)).\n",
    "        T (array_like): time instants at which a change in \n",
    "                        the process occurs (t_n).\n",
    "    \"\"\" \n",
    "    if beta <= 0:\n",
    "        raise ValueError(\"Beta must be greater than 0.\")\n",
    "    if delta <= 0:\n",
    "        raise ValueError(\"Delta must be greater than 0.\")\n",
    "    if K <= 0:\n",
    "        raise ValueError(\"K must be greater than 0.\")\n",
    "\n",
    "    np.random.seed(rng)\n",
    "    beta=1/beta\n",
    "    delta=1/delta\n",
    "    T,X=np.zeros(niter),np.zeros(niter)\n",
    "\n",
    "    for i in range(1,niter):\n",
    "        if X[i-1]==0:\n",
    "            T[i]=T[i-1]+np.random.exponential(beta)\n",
    "            X[i]=X[i-1]+1\n",
    "        elif X[i-1] == K:\n",
    "            T[i]=(T[i-1]+rng.exponential(delta))\n",
    "            X[i]=(X[i-1]-1)\n",
    "        else:\n",
    "            Tb = np.random.exponential(beta)\n",
    "            Td = np.random.exponential(delta)\n",
    "            if Tb<Td : \n",
    "                T[i]=T[i-1]+Tb\n",
    "                X[i]=X[i-1]+1\n",
    "            else:\n",
    "                T[i]=T[i-1]+Td\n",
    "                X[i]=X[i-1]-1\n",
    "    return X,T"
   ]
  },
  {
   "attachments": {},
   "cell_type": "markdown",
   "metadata": {},
   "source": [
    "b) Display the trajectory of the process for $(\\beta,\\delta, K) = (5, 6, 3)$."
   ]
  },
  {
   "cell_type": "code",
   "execution_count": 22,
   "metadata": {},
   "outputs": [
    {
     "data": {
      "image/png": "[encoded data removed]",
      "text/plain": [
       "<Figure size 864x432 with 1 Axes>"
      ]
     },
     "metadata": {
      "needs_background": "light"
     },
     "output_type": "display_data"
    }
   ],
   "source": [
    "# Running the simulation for the M/M/1/3 queue process\n",
    "beta, delta, K = 5, 6, 3\n",
    "rng_seed = 42\n",
    "niter = 1000\n",
    "\n",
    "# Using the modified function to simulate the M/M/1/K process\n",
    "X_K, T_K = run_mm1k(beta, delta, K, rng_seed, niter)\n",
    "\n",
    "# Plotting the trajectory\n",
    "plt.figure(figsize=(12, 6))\n",
    "plt.step(T_K[:100], X_K[:100], where='post')\n",
    "plt.xlabel('Time')\n",
    "plt.ylabel('Number of Customers in System')\n",
    "plt.title('Trajectory of M/M/1/3 Queue Process')\n",
    "plt.grid(True)\n",
    "plt.show()"
   ]
  },
  {
   "cell_type": "markdown",
   "metadata": {},
   "source": [
    "4\\. a) Display on the same graph the normalized histogram of $X(t)$ and the stationary distribution $\\pi$ defined as\n",
    "\n",
    "$$\n",
    "    (\\forall i \\in \\mathbb{N}), \\; \\pi(i) =\n",
    "    \\begin{cases}\n",
    "        \\frac{(1-\\rho)\\rho^i}{1-\\rho^{K+1}} & \\text{if } i \\in \\{0, 1, \\dotsc, K \\} \\\\\n",
    "        0 & \\text{otherwise.}\n",
    "    \\end{cases}\n",
    "$$\n",
    "\n",
    "What does this graph illustrate?"
   ]
  },
  {
   "cell_type": "code",
   "execution_count": 23,
   "metadata": {},
   "outputs": [
    {
     "data": {
      "application/vnd.plotly.v1+json": {
       "config": {
        "plotlyServerURL": "https://plot.ly"
       },
       "data": [
        {
         "name": "Empirical Distribution (Histogram of X(t))",
         "type": "bar",
         "x": [
          0.375,
          1.125,
          1.875,
          2.625
         ],
         "y": [
          0.2586666666666667,
          0.45866666666666667,
          0.408,
          0.208
         ]
        },
        {
         "line": {
          "color": "red"
         },
         "mode": "lines+markers",
         "name": "Theoretical Stationary Distribution (pi)",
         "type": "scatter",
         "x": [
          0,
          1,
          2,
          3
         ],
         "y": [
          0.32190760059612517,
          0.26825633383010433,
          0.22354694485842028,
          0.18628912071535025
         ]
        }
       ],
       "layout": {
        "barmode": "overlay",
        "template": {
         "data": {
          "bar": [
           {
            "error_x": {
             "color": "#2a3f5f"
            },
            "error_y": {
             "color": "#2a3f5f"
            },
            "marker": {
             "line": {
              "color": "#E5ECF6",
              "width": 0.5
             },
             "pattern": {
              "fillmode": "overlay",
              "size": 10,
              "solidity": 0.2
             }
            },
            "type": "bar"
           }
          ],
          "barpolar": [
           {
            "marker": {
             "line": {
              "color": "#E5ECF6",
              "width": 0.5
             },
             "pattern": {
              "fillmode": "overlay",
              "size": 10,
              "solidity": 0.2
             }
            },
            "type": "barpolar"
           }
          ],
          "carpet": [
           {
            "aaxis": {
             "endlinecolor": "#2a3f5f",
             "gridcolor": "white",
             "linecolor": "white",
             "minorgridcolor": "white",
             "startlinecolor": "#2a3f5f"
            },
            "baxis": {
             "endlinecolor": "#2a3f5f",
             "gridcolor": "white",
             "linecolor": "white",
             "minorgridcolor": "white",
             "startlinecolor": "#2a3f5f"
            },
            "type": "carpet"
           }
          ],
          "choropleth": [
           {
            "colorbar": {
             "outlinewidth": 0,
             "ticks": ""
            },
            "type": "choropleth"
           }
          ],
          "contour": [
           {
            "colorbar": {
             "outlinewidth": 0,
             "ticks": ""
            },
            "colorscale": [
             [
              0,
              "#0d0887"
             ],
             [
              0.1111111111111111,
              "#46039f"
             ],
             [
              0.2222222222222222,
              "#7201a8"
             ],
             [
              0.3333333333333333,
              "#9c179e"
             ],
             [
              0.4444444444444444,
              "#bd3786"
             ],
             [
              0.5555555555555556,
              "#d8576b"
             ],
             [
              0.6666666666666666,
              "#ed7953"
             ],
             [
              0.7777777777777778,
              "#fb9f3a"
             ],
             [
              0.8888888888888888,
              "#fdca26"
             ],
             [
              1,
              "#f0f921"
             ]
            ],
            "type": "contour"
           }
          ],
          "contourcarpet": [
           {
            "colorbar": {
             "outlinewidth": 0,
             "ticks": ""
            },
            "type": "contourcarpet"
           }
          ],
          "heatmap": [
           {
            "colorbar": {
             "outlinewidth": 0,
             "ticks": ""
            },
            "colorscale": [
             [
              0,
              "#0d0887"
             ],
             [
              0.1111111111111111,
              "#46039f"
             ],
             [
              0.2222222222222222,
              "#7201a8"
             ],
             [
              0.3333333333333333,
              "#9c179e"
             ],
             [
              0.4444444444444444,
              "#bd3786"
             ],
             [
              0.5555555555555556,
              "#d8576b"
             ],
             [
              0.6666666666666666,
              "#ed7953"
             ],
             [
              0.7777777777777778,
              "#fb9f3a"
             ],
             [
              0.8888888888888888,
              "#fdca26"
             ],
             [
              1,
              "#f0f921"
             ]
            ],
            "type": "heatmap"
           }
          ],
          "heatmapgl": [
           {
            "colorbar": {
             "outlinewidth": 0,
             "ticks": ""
            },
            "colorscale": [
             [
              0,
              "#0d0887"
             ],
             [
              0.1111111111111111,
              "#46039f"
             ],
             [
              0.2222222222222222,
              "#7201a8"
             ],
             [
              0.3333333333333333,
              "#9c179e"
             ],
             [
              0.4444444444444444,
              "#bd3786"
             ],
             [
              0.5555555555555556,
              "#d8576b"
             ],
             [
              0.6666666666666666,
              "#ed7953"
             ],
             [
              0.7777777777777778,
              "#fb9f3a"
             ],
             [
              0.8888888888888888,
              "#fdca26"
             ],
             [
              1,
              "#f0f921"
             ]
            ],
            "type": "heatmapgl"
           }
          ],
          "histogram": [
           {
            "marker": {
             "pattern": {
              "fillmode": "overlay",
              "size": 10,
              "solidity": 0.2
             }
            },
            "type": "histogram"
           }
          ],
          "histogram2d": [
           {
            "colorbar": {
             "outlinewidth": 0,
             "ticks": ""
            },
            "colorscale": [
             [
              0,
              "#0d0887"
             ],
             [
              0.1111111111111111,
              "#46039f"
             ],
             [
              0.2222222222222222,
              "#7201a8"
             ],
             [
              0.3333333333333333,
              "#9c179e"
             ],
             [
              0.4444444444444444,
              "#bd3786"
             ],
             [
              0.5555555555555556,
              "#d8576b"
             ],
             [
              0.6666666666666666,
              "#ed7953"
             ],
             [
              0.7777777777777778,
              "#fb9f3a"
             ],
             [
              0.8888888888888888,
              "#fdca26"
             ],
             [
              1,
              "#f0f921"
             ]
            ],
            "type": "histogram2d"
           }
          ],
          "histogram2dcontour": [
           {
            "colorbar": {
             "outlinewidth": 0,
             "ticks": ""
            },
            "colorscale": [
             [
              0,
              "#0d0887"
             ],
             [
              0.1111111111111111,
              "#46039f"
             ],
             [
              0.2222222222222222,
              "#7201a8"
             ],
             [
              0.3333333333333333,
              "#9c179e"
             ],
             [
              0.4444444444444444,
              "#bd3786"
             ],
             [
              0.5555555555555556,
              "#d8576b"
             ],
             [
              0.6666666666666666,
              "#ed7953"
             ],
             [
              0.7777777777777778,
              "#fb9f3a"
             ],
             [
              0.8888888888888888,
              "#fdca26"
             ],
             [
              1,
              "#f0f921"
             ]
            ],
            "type": "histogram2dcontour"
           }
          ],
          "mesh3d": [
           {
            "colorbar": {
             "outlinewidth": 0,
             "ticks": ""
            },
            "type": "mesh3d"
           }
          ],
          "parcoords": [
           {
            "line": {
             "colorbar": {
              "outlinewidth": 0,
              "ticks": ""
             }
            },
            "type": "parcoords"
           }
          ],
          "pie": [
           {
            "automargin": true,
            "type": "pie"
           }
          ],
          "scatter": [
           {
            "fillpattern": {
             "fillmode": "overlay",
             "size": 10,
             "solidity": 0.2
            },
            "type": "scatter"
           }
          ],
          "scatter3d": [
           {
            "line": {
             "colorbar": {
              "outlinewidth": 0,
              "ticks": ""
             }
            },
            "marker": {
             "colorbar": {
              "outlinewidth": 0,
              "ticks": ""
             }
            },
            "type": "scatter3d"
           }
          ],
          "scattercarpet": [
           {
            "marker": {
             "colorbar": {
              "outlinewidth": 0,
              "ticks": ""
             }
            },
            "type": "scattercarpet"
           }
          ],
          "scattergeo": [
           {
            "marker": {
             "colorbar": {
              "outlinewidth": 0,
              "ticks": ""
             }
            },
            "type": "scattergeo"
           }
          ],
          "scattergl": [
           {
            "marker": {
             "colorbar": {
              "outlinewidth": 0,
              "ticks": ""
             }
            },
            "type": "scattergl"
           }
          ],
          "scattermapbox": [
           {
            "marker": {
             "colorbar": {
              "outlinewidth": 0,
              "ticks": ""
             }
            },
            "type": "scattermapbox"
           }
          ],
          "scatterpolar": [
           {
            "marker": {
             "colorbar": {
              "outlinewidth": 0,
              "ticks": ""
             }
            },
            "type": "scatterpolar"
           }
          ],
          "scatterpolargl": [
           {
            "marker": {
             "colorbar": {
              "outlinewidth": 0,
              "ticks": ""
             }
            },
            "type": "scatterpolargl"
           }
          ],
          "scatterternary": [
           {
            "marker": {
             "colorbar": {
              "outlinewidth": 0,
              "ticks": ""
             }
            },
            "type": "scatterternary"
           }
          ],
          "surface": [
           {
            "colorbar": {
             "outlinewidth": 0,
             "ticks": ""
            },
            "colorscale": [
             [
              0,
              "#0d0887"
             ],
             [
              0.1111111111111111,
              "#46039f"
             ],
             [
              0.2222222222222222,
              "#7201a8"
             ],
             [
              0.3333333333333333,
              "#9c179e"
             ],
             [
              0.4444444444444444,
              "#bd3786"
             ],
             [
              0.5555555555555556,
              "#d8576b"
             ],
             [
              0.6666666666666666,
              "#ed7953"
             ],
             [
              0.7777777777777778,
              "#fb9f3a"
             ],
             [
              0.8888888888888888,
              "#fdca26"
             ],
             [
              1,
              "#f0f921"
             ]
            ],
            "type": "surface"
           }
          ],
          "table": [
           {
            "cells": {
             "fill": {
              "color": "#EBF0F8"
             },
             "line": {
              "color": "white"
             }
            },
            "header": {
             "fill": {
              "color": "#C8D4E3"
             },
             "line": {
              "color": "white"
             }
            },
            "type": "table"
           }
          ]
         },
         "layout": {
          "annotationdefaults": {
           "arrowcolor": "#2a3f5f",
           "arrowhead": 0,
           "arrowwidth": 1
          },
          "autotypenumbers": "strict",
          "coloraxis": {
           "colorbar": {
            "outlinewidth": 0,
            "ticks": ""
           }
          },
          "colorscale": {
           "diverging": [
            [
             0,
             "#8e0152"
            ],
            [
             0.1,
             "#c51b7d"
            ],
            [
             0.2,
             "#de77ae"
            ],
            [
             0.3,
             "#f1b6da"
            ],
            [
             0.4,
             "#fde0ef"
            ],
            [
             0.5,
             "#f7f7f7"
            ],
            [
             0.6,
             "#e6f5d0"
            ],
            [
             0.7,
             "#b8e186"
            ],
            [
             0.8,
             "#7fbc41"
            ],
            [
             0.9,
             "#4d9221"
            ],
            [
             1,
             "#276419"
            ]
           ],
           "sequential": [
            [
             0,
             "#0d0887"
            ],
            [
             0.1111111111111111,
             "#46039f"
            ],
            [
             0.2222222222222222,
             "#7201a8"
            ],
            [
             0.3333333333333333,
             "#9c179e"
            ],
            [
             0.4444444444444444,
             "#bd3786"
            ],
            [
             0.5555555555555556,
             "#d8576b"
            ],
            [
             0.6666666666666666,
             "#ed7953"
            ],
            [
             0.7777777777777778,
             "#fb9f3a"
            ],
            [
             0.8888888888888888,
             "#fdca26"
            ],
            [
             1,
             "#f0f921"
            ]
           ],
           "sequentialminus": [
            [
             0,
             "#0d0887"
            ],
            [
             0.1111111111111111,
             "#46039f"
            ],
            [
             0.2222222222222222,
             "#7201a8"
            ],
            [
             0.3333333333333333,
             "#9c179e"
            ],
            [
             0.4444444444444444,
             "#bd3786"
            ],
            [
             0.5555555555555556,
             "#d8576b"
            ],
            [
             0.6666666666666666,
             "#ed7953"
            ],
            [
             0.7777777777777778,
             "#fb9f3a"
            ],
            [
             0.8888888888888888,
             "#fdca26"
            ],
            [
             1,
             "#f0f921"
            ]
           ]
          },
          "colorway": [
           "#636efa",
           "#EF553B",
           "#00cc96",
           "#ab63fa",
           "#FFA15A",
           "#19d3f3",
           "#FF6692",
           "#B6E880",
           "#FF97FF",
           "#FECB52"
          ],
          "font": {
           "color": "#2a3f5f"
          },
          "geo": {
           "bgcolor": "white",
           "lakecolor": "white",
           "landcolor": "#E5ECF6",
           "showlakes": true,
           "showland": true,
           "subunitcolor": "white"
          },
          "hoverlabel": {
           "align": "left"
          },
          "hovermode": "closest",
          "mapbox": {
           "style": "light"
          },
          "paper_bgcolor": "white",
          "plot_bgcolor": "#E5ECF6",
          "polar": {
           "angularaxis": {
            "gridcolor": "white",
            "linecolor": "white",
            "ticks": ""
           },
           "bgcolor": "#E5ECF6",
           "radialaxis": {
            "gridcolor": "white",
            "linecolor": "white",
            "ticks": ""
           }
          },
          "scene": {
           "xaxis": {
            "backgroundcolor": "#E5ECF6",
            "gridcolor": "white",
            "gridwidth": 2,
            "linecolor": "white",
            "showbackground": true,
            "ticks": "",
            "zerolinecolor": "white"
           },
           "yaxis": {
            "backgroundcolor": "#E5ECF6",
            "gridcolor": "white",
            "gridwidth": 2,
            "linecolor": "white",
            "showbackground": true,
            "ticks": "",
            "zerolinecolor": "white"
           },
           "zaxis": {
            "backgroundcolor": "#E5ECF6",
            "gridcolor": "white",
            "gridwidth": 2,
            "linecolor": "white",
            "showbackground": true,
            "ticks": "",
            "zerolinecolor": "white"
           }
          },
          "shapedefaults": {
           "line": {
            "color": "#2a3f5f"
           }
          },
          "ternary": {
           "aaxis": {
            "gridcolor": "white",
            "linecolor": "white",
            "ticks": ""
           },
           "baxis": {
            "gridcolor": "white",
            "linecolor": "white",
            "ticks": ""
           },
           "bgcolor": "#E5ECF6",
           "caxis": {
            "gridcolor": "white",
            "linecolor": "white",
            "ticks": ""
           }
          },
          "title": {
           "x": 0.05
          },
          "xaxis": {
           "automargin": true,
           "gridcolor": "white",
           "linecolor": "white",
           "ticks": "",
           "title": {
            "standoff": 15
           },
           "zerolinecolor": "white",
           "zerolinewidth": 2
          },
          "yaxis": {
           "automargin": true,
           "gridcolor": "white",
           "linecolor": "white",
           "ticks": "",
           "title": {
            "standoff": 15
           },
           "zerolinecolor": "white",
           "zerolinewidth": 2
          }
         }
        },
        "title": {
         "text": "Comparison of Empirical and Stationary Distributions for M/M/1/3 Queue"
        },
        "xaxis": {
         "title": {
          "text": "Number of Customers in System"
         }
        },
        "yaxis": {
         "title": {
          "text": "Probability"
         }
        }
       }
      }
     },
     "metadata": {},
     "output_type": "display_data"
    }
   ],
   "source": [
    "# Calculating the stationary distribution for M/M/1/K\n",
    "pi_K = [(1 - rho) * (rho ** i) / (1 - rho ** (K + 1)) for i in range(K + 1)]\n",
    "\n",
    "# Generating the normalized histogram for X(t) from the M/M/1/K simulation\n",
    "hist_K, bins_K = np.histogram(X_K, bins=K + 1, range=(0, K), density=True)\n",
    "bin_centers_K = 0.5 * (bins_K[:-1] + bins_K[1:])\n",
    "\n",
    "# Plotting the histogram and stationary distribution using Plotly\n",
    "fig = go.Figure()\n",
    "fig.add_trace(go.Bar(x=bin_centers_K, y=hist_K, name='Empirical Distribution (Histogram of X(t))'))\n",
    "fig.add_trace(go.Scatter(x=list(range(K + 1)), y=pi_K, mode='lines+markers', \n",
    "                         name='Theoretical Stationary Distribution (pi)', line=dict(color='red')))\n",
    "\n",
    "# Updating layout\n",
    "fig.update_layout(\n",
    "    title='Comparison of Empirical and Stationary Distributions for M/M/1/3 Queue',\n",
    "    xaxis_title='Number of Customers in System',\n",
    "    yaxis_title='Probability',\n",
    "    barmode='overlay'\n",
    ")\n",
    "\n",
    "# Display the plot\n",
    "fig.show()"
   ]
  },
  {
   "cell_type": "code",
   "execution_count": null,
   "metadata": {},
   "outputs": [],
   "source": []
  },
  {
   "attachments": {},
   "cell_type": "markdown",
   "metadata": {},
   "source": [
    "b) Compute the theoretical average number of customers (prove its epxression), and estimate its value using the function developed in 3.a). <!--(see TD3, exercise 3)-->"
   ]
  },
  {
   "cell_type": "code",
   "execution_count": null,
   "metadata": {},
   "outputs": [],
   "source": []
  },
  {
   "attachments": {},
   "cell_type": "markdown",
   "metadata": {},
   "source": [
    "---\n",
    "## <a name=\"ex2\">Exercise 2: Drawing samples from the Ising model with the Metropolis-Hastings algorithm</a> [(&#8593;)](#content)\n",
    "\n",
    "Consider the 2D Ising model covered in Chapter 3, section 3 of the lecture notes, taken over an $N \\times N$ grid for $N = 32$, with $\\beta = 0.6$. <!-- Chapter 3, p.36 -->\n",
    "\n",
    "1\\. Implement a Metropolis-Hastings algorithm to draw samples from the 2D Ising model in the above configuration. Progressively display the evolution of the image as the algorithm evolves. Generate 10000 such variables, starting from a random configuration. Qualitatively comment the content of the last few generated samples, in comparison with the initial state.\n",
    "\n",
    "> *Note*: a) the matlpotlib examples given [here](http://louistiao.me/posts/notebooks/embedding-matplotlib-animations-in-jupyter-as-interactive-javascript-widgets/) can be useful\n",
    ">\n",
    "> b) given the relatively slow evolution from one iteration to another, you may display the current state of the image only once every 20 iterations."
   ]
  },
  {
   "cell_type": "code",
   "execution_count": 6,
   "metadata": {},
   "outputs": [
    {
     "data": {
      "image/png": "[encoded data removed]",
      "text/plain": [
       "<Figure size 432x288 with 1 Axes>"
      ]
     },
     "metadata": {},
     "output_type": "display_data"
    }
   ],
   "source": [
    "import numpy as np\n",
    "import matplotlib.pyplot as plt\n",
    "from IPython.display import clear_output\n",
    "\n",
    "def metro_hasting_ising_2D(N,beta,num_samples,display_iter):\n",
    "    \"\"\"\n",
    "    Args:\n",
    "        N (int) : grid dimension grille (N x N)\n",
    "        beta (float) : inverse temperature \n",
    "        num_samples (int) : number of iterations on the grid\n",
    "        display_iter (int) : number of steps before refreshing grid display\n",
    "    Raises:\n",
    "        ValueError: error triggered if display_iter <= 0.\n",
    "        ValueError: error triggered if num_samples <= 0.\n",
    "        ValueError: error triggered if N <= 0.\n",
    "    \n",
    "    \"\"\"\n",
    "    assert N>0, print(f\"N should be positive, N={N}\")\n",
    "    assert display_iter>0, print(f\"display_iter should be positive, display_iter={display_iter}\")\n",
    "    assert num_samples>0, print(f\"num_samples should be positive, num_samples={num_samples}\")\n",
    "\n",
    "    grid = 2*np.random.randint(2, size=(N,N))-1\n",
    "    for i in range(num_samples):\n",
    "        x = np.random.randint(N)\n",
    "        y = np.random.randint(N)\n",
    "        delta_E = 2 * grid[x,y] * (grid[(x+1)%N,y] + grid[(x-1)%N,y] + grid[x,(y+1)%N] + grid[x,(y-1)%N])\n",
    "        if np.random.rand() < np.exp(-beta * delta_E):\n",
    "            grid[x,y] = -grid[x,y]\n",
    "\n",
    "        if i % display_iter == 0:\n",
    "            clear_output(wait=True)\n",
    "            plt.imshow(grid, cmap=\"gray\", vmin=-1, vmax=1)\n",
    "            plt.show()\n",
    "        \n",
    "#paramètres\n",
    "N = 64\n",
    "beta = 0.1\n",
    "num_samples = 100000\n",
    "display_iter=1000\n",
    "metro_hasting_ising_2D(N,beta,num_samples,display_iter)"
   ]
  },
  {
   "attachments": {},
   "cell_type": "markdown",
   "metadata": {},
   "source": [
    "2\\. Decrease the value of the parameter $\\beta = 0.1$, and generate 10000 new variables with the algorithm implemented in 1. What is the influence of the parameter $\\beta$?"
   ]
  },
  {
   "cell_type": "code",
   "execution_count": null,
   "metadata": {},
   "outputs": [],
   "source": [
    "beta2 = 0.6\n",
    "\n",
    "metro_hasting_ising_2D(N,beta2,num_samples,display_iter)"
   ]
  },
  {
   "attachments": {},
   "cell_type": "markdown",
   "metadata": {},
   "source": [
    "---\n",
    "## <a name=\"ex3\">Exercise 3: Simulated annealing for the *traveling salesman* problem</a> [(&#8593;)](#content)\n",
    "\n",
    "This exercise will be focused on the implementation of a basic simulated annealing algorithm to minimize a function $f : E \\subset \\mathbb{N} \\rightarrow \\mathbb{R}$, where $E$ is finite. An application to the *traveling salesman* problem will then be considered to test the algorithm implementation. \n",
    "\n",
    "In general, a simulated annealing algorithm can be described as follows.\n",
    "\n",
    "---\n",
    "**Simulated annealing**\n",
    "\n",
    "Set $x_0 \\in E$, $T_0  > 0$. \n",
    "\n",
    "$n \\leftarrow 0$\n",
    "\n",
    "While $(n \\leq N)$ and $(T_n > T_{\\min})$\n",
    "\n",
    "  1. Draw a point $y \\sim Q(x_n, \\cdot)$ in the neighborhood of $x_n$, and $u \\sim \\mathscr{U}([0,1])$ (where $\\mathscr{U}$ is the uniform distribution)\n",
    "  \n",
    "  2. Compute the acceptance probability: \n",
    "  \n",
    "$$\n",
    "    p(f(x_n), f(y), T_n) = \n",
    "    \\begin{cases}\n",
    "        1 & \\text{if } f(y) < f(x_n) \\\\\n",
    "        e^{-(f(y) - f(x_n))/T_n} & \\text{otherwise.}\n",
    "    \\end{cases}\n",
    "$$\n",
    "  \n",
    "  3. Set $x_{n+1} = \\begin{cases}\n",
    "       y & \\text{if } u \\leq p(f(x_n), f(y), T_n) \\\\\n",
    "       x_n & \\text{otherwise.}\n",
    "       \\end{cases}$\n",
    "  4. Set $T_{n+1} = \\frac{T_0}{\\log(n+2)}$\n",
    "  5. $n \\leftarrow n+1$\n",
    "\n",
    "Return $x_N$, $\\bigl( f(x_n) \\bigr)_{1 \\leq n \\leq N}$\n",
    "\n",
    "> *Note*: in practice, the transition kernel $Q$, the neighborhood of the current point $x_n$ needs to be defined by the user, depending on the problem of interest. The definition of the other elements will be specified later for the *traveling salesman* problem.\n",
    "\n",
    "---"
   ]
  },
  {
   "cell_type": "markdown",
   "metadata": {},
   "source": [
    "1\\. Implement a generic `simulated_annealing` function to be run for a maximum of $N$ iterations.\n",
    "\n",
    "> *Note*: you can for instance create an object gathering several abstract methods to be instanciated (e.g., `draw_neighbour`, `acceptance_probability`, ...). Using functions and lambda functions is another possibility."
   ]
  },
  {
   "cell_type": "code",
   "execution_count": 7,
   "metadata": {},
   "outputs": [],
   "source": [
    "import numpy as np\n",
    "import abc\n",
    "import matplotlib.pyplot as plt\n",
    "from IPython.display import clear_output\n",
    "\n",
    "# Abstract Base Class for Simulated Annealing\n",
    "class SimulatedAnnealingAbstract(abc.ABC):\n",
    "    \"\"\"\n",
    "    Abstract base class for Simulated Annealing algorithm. Defines the structure and essential methods for the algorithm.\n",
    "    \"\"\"\n",
    "\n",
    "    @abc.abstractmethod\n",
    "    def draw_neighbour(self, current_state):\n",
    "        \"\"\"\n",
    "        Abstract method to determine the neighboring state of a given state.\n",
    "        \n",
    "        :param current_state: The current state in the simulated annealing process.\n",
    "        :return: A neighboring state.\n",
    "        \"\"\"\n",
    "        pass\n",
    "\n",
    "    @abc.abstractmethod\n",
    "    def acceptance_probability(self, f, current_state, new_state, temperature):\n",
    "        \"\"\"\n",
    "        Abstract method to calculate the probability of accepting a new state.\n",
    "        \n",
    "        :param f: Objective function used in simulated annealing.\n",
    "        :param current_state: The current state in the simulated annealing process.\n",
    "        :param new_state: The new state to potentially move to.\n",
    "        :param temperature: The current temperature in the simulated annealing process.\n",
    "        :return: Probability of accepting the new state.\n",
    "        \"\"\"\n",
    "        pass\n",
    "    \n",
    "    def simulated_annealing(self, f, max_iter, min_temp, initial_state, initial_temp, draw_neighbour):\n",
    "        \"\"\"\n",
    "        Perform the simulated annealing algorithm using a given objective function and initial parameters.\n",
    "\n",
    "        :param f: The objective function to be minimized.\n",
    "        :param max_iter: Maximum number of iterations.\n",
    "        :param min_temp: Minimum temperature to terminate the algorithm.\n",
    "        :param initial_state: The initial state of the system.\n",
    "        :param initial_temp: The initial temperature.\n",
    "        :param draw_neighbour: Function to generate a neighboring state.\n",
    "        :return: A tuple containing the history of states and function values.\n",
    "        \"\"\"\n",
    "        n = 0\n",
    "        xn = initial_state\n",
    "        Tn = initial_temp\n",
    "        X, F = [], []\n",
    "\n",
    "        while n < max_iter and Tn > min_temp:\n",
    "            y = draw_neighbour(xn)\n",
    "            u = np.random.uniform()\n",
    "            xn = y if u <= self.acceptance_probability(f, xn, y, Tn) else xn\n",
    "            X.append(xn)\n",
    "            F.append(f(xn))\n",
    "            Tn = initial_temp / np.log(n + 2)\n",
    "            n += 1\n",
    "        return X, F\n"
   ]
  },
  {
   "cell_type": "markdown",
   "metadata": {},
   "source": [
    "The algorithm implemented in 1. will be applied to the *traveling salesman* problem, briefly described in the following lines.\n",
    "\n",
    "---\n",
    "**The Traveling Salesman problem**\n",
    "\n",
    "A salesman must find the shortest route going only once through $K$ cities, represented by the points $C_1, \\dotsc, C_K$ in $\\mathbb{R}^2$. In this case, the set of all possible routes $E$ contains $K!$ elements, which excludes an exhaustive search as $K$ increases (*e.g.*, for $K \\geq 10$). For this application, the problem thus consists in finding a route, i.e., a permutation $\\sigma$ in the symmetric group $\\Sigma_K$, minimizing the function\n",
    "\n",
    "\\begin{equation}\n",
    "    \\sigma = \\bigl( \\sigma(1), \\dotsc , \\sigma(K) \\bigr) \\mapsto f(x) = \\sum_{i = 1}^{K} \\text{dist} (C_{\\sigma(i)}, C_{\\sigma(i+1)})\n",
    "\\end{equation}\n",
    "\n",
    "with the convention $\\sigma(K+1) = \\sigma(1)$. In this case, simulated annealing randomly explores $\\Sigma_K$ from one possible route to another located in its vicinity (which needs to be defined). \n",
    "\n",
    "In the following, the route $\\tilde{\\sigma} = \\bigl( \\tilde{\\sigma}(1), \\dotsc, \\tilde{\\sigma}(K) \\bigr)$ will be said to be a neighbour of $\\sigma = \\bigl( \\sigma(1), \\dotsc, \\sigma(K) \\bigr)$ if there exists $1 \\leq i < k \\leq K $ such that:\n",
    "\n",
    "\\begin{equation}\n",
    "   \\bigl( \\tilde{\\sigma}(1), \\dotsc ,\\tilde{\\sigma}(K) \\bigr) = \\bigl( \\sigma(1), \\dotsc, \\sigma(i−1), \\sigma(k), \\sigma(k−1), \\dotsc, \\sigma(i+1), \\sigma(i), \\sigma(k+1), \\dotsc, \\sigma(K) \\bigr). \n",
    "\\end{equation}\n",
    "\n",
    "For instance, for $K = 8$, the permutations $(1,2,3,4,8,7,6,5)$ and $(1,2,7,8,4,3,6,5)$ are neighbours (with $i = 3$, $k = 6$).\n",
    "\n",
    "---"
   ]
  },
  {
   "cell_type": "markdown",
   "metadata": {},
   "source": [
    "2\\. Fully instantiate the simulated annealing algorithm for the traveling salesman problem. Take the $\\ell_2$ norm for $\\text{dist}$."
   ]
  },
  {
   "cell_type": "code",
   "execution_count": 8,
   "metadata": {},
   "outputs": [],
   "source": [
    "# Subclass with implementation of abstract methods and additional methods\n",
    "class SimulatedAnnealingImplementation(SimulatedAnnealingAbstract):\n",
    "    \"\"\"\n",
    "    Implementation of Simulated Annealing for specific problems, including the Traveling Salesman Problem.\n",
    "    \"\"\"\n",
    "\n",
    "    def draw_neighbour(self, current_state):\n",
    "        \"\"\"\n",
    "        Generates a neighboring state by slightly modifying the current state.\n",
    "\n",
    "        :param current_state: The current state in the simulated annealing process.\n",
    "        :return: A neighboring state.\n",
    "        \"\"\"\n",
    "        return current_state + 0.005 if np.random.uniform() < 0.5 else current_state - 0.005\n",
    "\n",
    "    def acceptance_probability(self, f, current_state, new_state, temperature):\n",
    "        \"\"\"\n",
    "        Calculates the acceptance probability for a new state based on the current state, objective function, and temperature.\n",
    "\n",
    "        :param f: Objective function used in simulated annealing.\n",
    "        :param current_state: The current state in the simulated annealing process.\n",
    "        :param new_state: The new state to potentially move to.\n",
    "        :param temperature: The current temperature in the simulated annealing process.\n",
    "        :return: Probability of accepting the new state.\n",
    "        \"\"\"\n",
    "        return 1 if f(new_state) < f(current_state) else np.exp(-(f(new_state) - f(current_state)) / temperature)\n",
    "\n",
    "    def plot_annealing(self, X, step_number=1000, draw_steps=False):\n",
    "        \"\"\"\n",
    "        Plots the evolution of the parameter over the course of the simulated annealing process.\n",
    "\n",
    "        :param X: A list containing the history of the parameter values.\n",
    "        :param step_number: The total number of steps in the simulated annealing process.\n",
    "        :param draw_steps: A boolean indicating whether to display the number of steps in the plot.\n",
    "        \"\"\"\n",
    "        plt.style.use('ggplot')\n",
    "        plt.plot(X)\n",
    "        title = \"Convergence du minimum x recherché\"\n",
    "        if draw_steps:\n",
    "            title += f\" - Nombre d'itérations : {step_number}\"\n",
    "        plt.title(title)\n",
    "        plt.xlabel(\"itérations\")\n",
    "        plt.ylabel(\"Valeur de x\")\n",
    "        plt.show()\n",
    "\n",
    "    def create_city(self,K,max_size_city,etalement):\n",
    "        \"\"\"\n",
    "        Generates a grid of city coordinates for the Traveling Salesman Problem.\n",
    "\n",
    "        :param K: Number of cities to generate.\n",
    "        :param max_size_city: Maximum value of the coordinates.\n",
    "        :param etalement: Spread factor for the city placement.\n",
    "        :return: A 2D array containing the coordinates of the cities.\n",
    "        \"\"\"\n",
    "        grid = []\n",
    "        while len(grid) < K:\n",
    "            grid.append(np.random.randint(max_size_city, size=2) + np.random.normal(scale=etalement/10, size=2))\n",
    "        return np.array(grid)\n",
    "   \n",
    "    def distance_permut(self, sigma, dist, grid):\n",
    "        \"\"\"\n",
    "        Calculates the total cost of a given permutation of cities.\n",
    "\n",
    "        :param sigma: The permutation of cities.\n",
    "        :param dist: A function to calculate the distance between two points.\n",
    "        :param grid: The grid of city coordinates.\n",
    "        :return: The total distance of the travel path defined by the permutation.\n",
    "        \"\"\"\n",
    "        K = len(sigma)\n",
    "        return np.sum([dist(grid[sigma[j]], grid[sigma[(j + 1) % K]]) for j in range(K)])\n",
    "\n",
    "    def draw_neighbourTSP(self, sigman):\n",
    "        sigmanp1 = np.copy(sigman)\n",
    "        i = np.random.randint(0, len(sigman))\n",
    "        k = i\n",
    "        while k == i:\n",
    "            k = np.random.randint(0, K)\n",
    "        i,k =min(i, k), max(i, k)\n",
    "        sigmanp1[i:k+1] = np.flip(sigmanp1[i:k+1])\n",
    "        return sigmanp1\n",
    "\n",
    "    def plotTSP(self,grid):\n",
    "        \"\"\"\n",
    "        :param grid(array-like): grille considérée des villes par leur coordonnées\n",
    "        :return: None,affiche le graphe de l'évolution\n",
    "        \"\"\"\n",
    "        plt.style.use('ggplot')\n",
    "        plt.grid()\n",
    "        plt.scatter(grid[:,0],grid[:,1],marker = \"P\",color = \"red\")\n",
    "        plt.title(\"Villes du problème considéré\")\n",
    "        plt.xlabel(\"coordonée x\")\n",
    "        plt.ylabel(\"coordonnée y\")\n",
    "        plt.show()\n",
    "\n",
    "    def plot_distance_iter(self,F,N):\n",
    "        \"\"\"\n",
    "        :param F(array-like): Liste des distances au fur et à mesure des itérations\n",
    "        :param N(int): nombre d'itérations\n",
    "        :return: None,affiche le graphe de l'évolution\n",
    "        \"\"\"\n",
    "        plt.plot(F,color = \"black\",linewidth = 2)\n",
    "        plt.title(f\"Distance du chemin en fonction \\n du nombre d'itérations ($N = {N} $)\")\n",
    "        plt.xlabel(\"Nb itérations\")\n",
    "        plt.ylabel(\"Distance\")\n",
    "        plt.show()\n",
    "    \n",
    "    def plotTSP_path(self,paths, points, num_iters=1):\n",
    "        \"\"\"\n",
    "        :path: chemin \n",
    "        :points: coordonées des points\n",
    "        :num_iters: nombre d'itérations\n",
    "        :return: None,affiche le graphe de l'évolution\n",
    "        \"\"\"\n",
    "        x = []; y = []\n",
    "        for i in paths[0]:\n",
    "            x.append(points[i][0])\n",
    "            y.append(points[i][1])\n",
    "        \n",
    "        plt.plot(x, y, 'co')\n",
    "        a_scale = float(max(x))/float(100)\n",
    "        if num_iters > 1:\n",
    "            for i in range(1, num_iters):\n",
    "                xi = []; yi = [];\n",
    "                for j in paths[i]:\n",
    "                    xi.append(points[j][0])\n",
    "                    yi.append(points[j][1])\n",
    "\n",
    "                plt.arrow(xi[-1], yi[-1], (xi[0] - xi[-1]), (yi[0] - yi[-1]), \n",
    "                        head_width = a_scale, color = 'r', \n",
    "                        length_includes_head = True, ls = 'dashed',\n",
    "                        width = 0.001/float(num_iters))\n",
    "                for i in range(0, len(x) - 1):\n",
    "                    plt.arrow(xi[i], yi[i], (xi[i+1] - xi[i]), (yi[i+1] - yi[i]),\n",
    "                            head_width = a_scale, color = 'r', length_includes_head = True,\n",
    "                            ls = 'dashed', width = 0.001/float(num_iters))\n",
    "\n",
    "        plt.arrow(x[-1], y[-1], (x[0] - x[-1]), (y[0] - y[-1]), head_width = a_scale, \n",
    "                color ='red', length_includes_head=True)\n",
    "        for i in range(0,len(x)-1):\n",
    "            plt.arrow(x[i], y[i], (x[i+1] - x[i]), (y[i+1] - y[i]), head_width = a_scale,\n",
    "                    color = 'red', length_includes_head = True)\n",
    "\n",
    "    \n",
    "        plt.xlim(min(x)-0.1*max(x), max(x)*1.1)\n",
    "        plt.ylim(min(y)-0.1*max(y), max(y)*1.1)\n",
    "        plt.show()\n",
    "    \n",
    "    def evolution_travelsaleman(self, paths, grid, iter_display):\n",
    "        \"\"\"\n",
    "        Displays the evolution of the traveling salesman's path during the simulated annealing process.\n",
    "\n",
    "        :param paths: An array of paths taken by the salesman.\n",
    "        :param grid: The grid of city coordinates.\n",
    "        :param iter_display: The iteration interval at which to display the path.\n",
    "        \"\"\"\n",
    "        for index, path in enumerate(paths):\n",
    "            if index % iter_display == 0:\n",
    "                clear_output(wait=True)\n",
    "                self.plotTSP_path([path], grid, num_iters=1)"
   ]
  },
  {
   "cell_type": "code",
   "execution_count": 9,
   "metadata": {},
   "outputs": [
    {
     "data": {
      "image/png": "[encoded data removed]",
      "text/plain": [
       "<Figure size 432x288 with 1 Axes>"
      ]
     },
     "metadata": {},
     "output_type": "display_data"
    }
   ],
   "source": [
    "#Paramètres\n",
    "N=100_000\n",
    "T_min=0.0005\n",
    "x0=10\n",
    "T0=1\n",
    "\n",
    "sa_impl = SimulatedAnnealingImplementation()\n",
    "result = sa_impl.simulated_annealing(f=lambda x: (x - 1) ** 2, max_iter=N, min_temp=T_min, initial_state=x0, initial_temp=T0, draw_neighbour=sa_impl.draw_neighbour)\n",
    "sa_impl.plot_annealing(result[0], step_number=N, draw_steps=True)\n"
   ]
  },
  {
   "cell_type": "markdown",
   "metadata": {},
   "source": [
    "3\\. Test your algorithm for $K = 50$ randomly located cities (i.e., generate the values of $(C_k)_{1 \\leq k \\leq K}$ randomly). Display both the evolution of the cost function with the iterations and the final route. Empirically tune the value $T_0$ to improve the result of the algorithm.\n",
    "\n",
    "> *Notes*:\n",
    ">\n",
    "> a) for reproducibility, set the random seed of the random number generator to a specific value, *e.g.*, 0;\n",
    ">\n",
    "> b) to generate an initial path $x_0$, you can for instance randomly select a starting city $k$, and define the next city sequentially by taking its *nearest neighbour*;\n",
    ">\n",
    "> c) to display the trajectory, you can use `matplotlib.pyplot.arrow` to display an arrow between two consecutive points."
   ]
  },
  {
   "cell_type": "code",
   "execution_count": 10,
   "metadata": {},
   "outputs": [
    {
     "data": {
      "image/png": "[encoded data removed]",
      "text/plain": [
       "<Figure size 432x288 with 1 Axes>"
      ]
     },
     "metadata": {},
     "output_type": "display_data"
    }
   ],
   "source": [
    "#paramèrtes\n",
    "K = 50\n",
    "max_size_city = 20\n",
    "etalement = 1\n",
    "\n",
    "#Simulation\n",
    "grid= sa_impl.create_city(K,max_size_city,etalement)\n",
    "sa_impl.plotTSP(grid=grid)"
   ]
  },
  {
   "cell_type": "code",
   "execution_count": 11,
   "metadata": {},
   "outputs": [
    {
     "data": {
      "image/png": "[encoded data removed]",
      "text/plain": [
       "<Figure size 432x288 with 1 Axes>"
      ]
     },
     "metadata": {},
     "output_type": "display_data"
    }
   ],
   "source": [
    "#Paramètres\n",
    "N=10000\n",
    "T_min=0.005\n",
    "sigma = np.random.permutation(K)\n",
    "x0 = sigma\n",
    "T0 = 1\n",
    "dist = lambda u,v : np.linalg.norm(u-v,2)\n",
    "f=lambda x : sa_impl.distance_permut(x,dist,grid)\n",
    "\n",
    "# Simulation\n",
    "X_TSP,F_TSP = sa_impl.simulated_annealing(f,N,T_min,x0,T0,sa_impl.draw_neighbourTSP)\n",
    "sa_impl.plot_distance_iter(F_TSP,N)\n"
   ]
  },
  {
   "cell_type": "code",
   "execution_count": 12,
   "metadata": {},
   "outputs": [
    {
     "data": {
      "image/png": "[encoded data removed]",
      "text/plain": [
       "<Figure size 432x288 with 1 Axes>"
      ]
     },
     "metadata": {},
     "output_type": "display_data"
    }
   ],
   "source": [
    "sa_impl.plotTSP_path([X_TSP[-1]], grid)"
   ]
  },
  {
   "cell_type": "code",
   "execution_count": 13,
   "metadata": {},
   "outputs": [
    {
     "data": {
      "image/png": "[encoded data removed]",
      "text/plain": [
       "<Figure size 432x288 with 1 Axes>"
      ]
     },
     "metadata": {},
     "output_type": "display_data"
    }
   ],
   "source": [
    "sa_impl.evolution_travelsaleman(X_TSP,grid,iter_display=100)"
   ]
  }
 ],
 "metadata": {
  "kernelspec": {
   "display_name": "Python 3.8.12 ('proba2')",
   "language": "python",
   "name": "python3"
  },
  "language_info": {
   "codemirror_mode": {
    "name": "ipython",
    "version": 3
   },
   "file_extension": ".py",
   "mimetype": "text/x-python",
   "name": "python",
   "nbconvert_exporter": "python",
   "pygments_lexer": "ipython3",
   "version": "3.9.12"
  },
  "vscode": {
   "interpreter": {
    "hash": "e8fe602c0f5c386b649ce7a1346b7b6de6c4ccf7371f3c0eee3e27f41427a2f8"
   }
  }
 },
 "nbformat": 4,
 "nbformat_minor": 4
}
